{
 "cells": [
  {
   "cell_type": "markdown",
   "id": "ae41f403",
   "metadata": {},
   "source": [
    "# Data Science Tools and Ecosystem"
   ]
  },
  {
   "cell_type": "markdown",
   "id": "7d5612ad",
   "metadata": {},
   "source": [
    "In this notebook, Data Science Tools and Ecosystem are summarized."
   ]
  },
  {
   "cell_type": "markdown",
   "id": "877b9d0e",
   "metadata": {},
   "source": [
    "**Objectives:**\n",
    "+ Working with Jupyter Notebook\n",
    "+ Insight into Rstudio\n",
    "+ Insight into Anaconda\n",
    "+ Insight into Python\n",
    "+ Insight into SQL querying"
   ]
  },
  {
   "attachments": {},
   "cell_type": "markdown",
   "id": "8334bf9f",
   "metadata": {},
   "source": [
    "**Some of the popular languages that Data Scientists use are:**\n",
    "\n",
    "1. Python\n",
    "2. SQL\n",
    "3. R\n",
    "\n",
    "| Data Science Tools |\n",
    "| ------------------ |\n",
    "| Hadoop |\n",
    "| Spark |\n",
    "| ggplot2 |"
   ]
  },
  {
   "cell_type": "markdown",
   "id": "b62bb495",
   "metadata": {},
   "source": [
    "### Below are a few examples of evaluating arithmetic expressions in Python"
   ]
  },
  {
   "cell_type": "code",
   "execution_count": 12,
   "id": "3745bfd2",
   "metadata": {},
   "outputs": [
    {
     "data": {
      "text/plain": [
       "17"
      ]
     },
     "execution_count": 12,
     "metadata": {},
     "output_type": "execute_result"
    }
   ],
   "source": [
    "(3*4)+5\n",
    "\n",
    "# This is a simple arithmetic expression to multiply then add integers"
   ]
  },
  {
   "cell_type": "code",
   "execution_count": 13,
   "id": "6e25bd0f",
   "metadata": {},
   "outputs": [
    {
     "name": "stdout",
     "output_type": "stream",
     "text": [
      "200 minutes divided by 60 equals to 3.33 hours.\n"
     ]
    }
   ],
   "source": [
    "# This will convert 200 minutes to hours by dividing by 60.\n",
    "\n",
    "print(\"200 minutes divided by 60 equals to\", round(200/60, 2) ,\"hours.\")"
   ]
  },
  {
   "cell_type": "markdown",
   "id": "f0273546",
   "metadata": {},
   "source": [
    "## Author\n",
    "Cry0genixx"
   ]
  }
 ],
 "metadata": {
  "kernelspec": {
   "display_name": "Python 3 (ipykernel)",
   "language": "python",
   "name": "python3"
  },
  "language_info": {
   "codemirror_mode": {
    "name": "ipython",
    "version": 3
   },
   "file_extension": ".py",
   "mimetype": "text/x-python",
   "name": "python",
   "nbconvert_exporter": "python",
   "pygments_lexer": "ipython3",
   "version": "3.11.5"
  }
 },
 "nbformat": 4,
 "nbformat_minor": 5
}
